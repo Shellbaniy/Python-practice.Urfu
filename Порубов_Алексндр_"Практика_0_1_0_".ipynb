{
  "nbformat": 4,
  "nbformat_minor": 0,
  "metadata": {
    "colab": {
      "provenance": [],
      "include_colab_link": true
    },
    "kernelspec": {
      "name": "python3",
      "display_name": "Python 3"
    },
    "language_info": {
      "name": "python"
    }
  },
  "cells": [
    {
      "cell_type": "markdown",
      "metadata": {
        "id": "view-in-github",
        "colab_type": "text"
      },
      "source": [
        "<a href=\"https://colab.research.google.com/github/Shellbaniy/Python-practice.Urfu/blob/main/%D0%9F%D0%BE%D1%80%D1%83%D0%B1%D0%BE%D0%B2_%D0%90%D0%BB%D0%B5%D0%BA%D1%81%D0%BD%D0%B4%D1%80_%22%D0%9F%D1%80%D0%B0%D0%BA%D1%82%D0%B8%D0%BA%D0%B0_0_1_0_%22.ipynb\" target=\"_parent\"><img src=\"https://colab.research.google.com/assets/colab-badge.svg\" alt=\"Open In Colab\"/></a>"
      ]
    },
    {
      "cell_type": "markdown",
      "source": [
        "Напишите свое ФИО:"
      ],
      "metadata": {
        "id": "0PnTh-ajEoEb"
      }
    },
    {
      "cell_type": "code",
      "source": [
        "print(\"Порубов Александр Витальевич\")"
      ],
      "metadata": {
        "id": "QyMVPjzWErHw",
        "colab": {
          "base_uri": "https://localhost:8080/"
        },
        "outputId": "76fc1856-d19f-4b52-e8a2-c9a0ccfdb750"
      },
      "execution_count": null,
      "outputs": [
        {
          "output_type": "stream",
          "name": "stdout",
          "text": [
            "Порубов Александр Витальевич\n"
          ]
        }
      ]
    },
    {
      "cell_type": "markdown",
      "source": [
        "# Основы"
      ],
      "metadata": {
        "id": "HPwKiIA4EKO-"
      }
    },
    {
      "cell_type": "markdown",
      "source": [
        "Задание 1: Напиши программу, выводящую на экран сообщение \"Привет, мир!\""
      ],
      "metadata": {
        "id": "8po5IidFERZ8"
      }
    },
    {
      "cell_type": "code",
      "execution_count": null,
      "metadata": {
        "id": "sBRjlCVLEIQr",
        "colab": {
          "base_uri": "https://localhost:8080/"
        },
        "outputId": "62d85153-9426-4f86-bdf5-03b19bc260c6"
      },
      "outputs": [
        {
          "output_type": "stream",
          "name": "stdout",
          "text": [
            "Привет, мир!\n"
          ]
        }
      ],
      "source": [
        "print(\"Привет, мир!\")"
      ]
    },
    {
      "cell_type": "markdown",
      "source": [
        "Задание 2: Напиши программу которая запрашивает имя пользователя и выводит сообщение:\n",
        "\n",
        "`Привет, <Имя пользователя>`"
      ],
      "metadata": {
        "id": "pUQIIo94EYLg"
      }
    },
    {
      "cell_type": "code",
      "source": [
        "name = input('Имя пользователя:')\n",
        "print('Привет, ' + name)"
      ],
      "metadata": {
        "id": "nNwHKmAnEinH",
        "colab": {
          "base_uri": "https://localhost:8080/"
        },
        "outputId": "77fe7244-ef23-470b-db00-028006f7f878"
      },
      "execution_count": null,
      "outputs": [
        {
          "output_type": "stream",
          "name": "stdout",
          "text": [
            "sanya\n",
            "Привет, sanya\n"
          ]
        }
      ]
    },
    {
      "cell_type": "markdown",
      "source": [
        "Задание 3: Напиши программу определяющую является ли число четным или нечетным:\n",
        "\n",
        "Пример:\n",
        "\n",
        "`Введите число:` 2\n",
        "\n",
        "`Ваше число четное!`"
      ],
      "metadata": {
        "id": "SAUm9W6_Etkh"
      }
    },
    {
      "cell_type": "code",
      "source": [
        "a = int(input('Введите число:'))\n",
        "if a%2==0:\n",
        "  print('Ваше число четное!')\n",
        "else:\n",
        "  print('Ваше число нечетное!')"
      ],
      "metadata": {
        "id": "LXv7AIN1E4on",
        "colab": {
          "base_uri": "https://localhost:8080/"
        },
        "outputId": "139e93f5-a291-4640-fd57-3d9e205d4895"
      },
      "execution_count": null,
      "outputs": [
        {
          "output_type": "stream",
          "name": "stdout",
          "text": [
            "Введите число:53\n",
            "Ваше число нечетное!\n"
          ]
        }
      ]
    },
    {
      "cell_type": "markdown",
      "source": [
        "Задание 4: Напишите программу которая запрашивает длинну и ширину прямоугольника и выводит его площадь:\n",
        "\n",
        "\n",
        "\n",
        "`Введите длинну прямоугольника:`\n",
        "\n",
        "`Введите ширину прямоугольника:`\n",
        "\n",
        "`Площадь прямоугольника: `\n",
        "\n"
      ],
      "metadata": {
        "id": "OW1Y5KyUE_n9"
      }
    },
    {
      "cell_type": "code",
      "source": [
        "l = int(input('введите длину прямоугольника:'))\n",
        "width = int(input('введите ширину прямоугольника:'))\n",
        "print('Площадь прямоугольника:',l*width)"
      ],
      "metadata": {
        "id": "Bu5iawknFbXP",
        "colab": {
          "base_uri": "https://localhost:8080/"
        },
        "outputId": "1d5f136a-c42e-4a91-fd17-9bd205918d20"
      },
      "execution_count": null,
      "outputs": [
        {
          "output_type": "stream",
          "name": "stdout",
          "text": [
            "введите длину прямоугольника:20\n",
            "введите ширину прямоугольника:4\n",
            "Площадь прямоугольника: 80\n"
          ]
        }
      ]
    },
    {
      "cell_type": "markdown",
      "source": [
        "Задание 5: Напишите программу, которая будет вычислять среднее арифметическое введенных чисел"
      ],
      "metadata": {
        "id": "xj8_QNLsFfLw"
      }
    },
    {
      "cell_type": "code",
      "source": [
        "numbers = list(map(float, input(\"Введите числа через пробел: \").split()))\n",
        "average = sum(numbers) / len(numbers)\n",
        "print(f\"Среднее арифметическое: {average}\")"
      ],
      "metadata": {
        "id": "omumX59JFoKw"
      },
      "execution_count": null,
      "outputs": []
    },
    {
      "cell_type": "markdown",
      "source": [
        "Задание 6: Напиши программу, которая бы определяла является ли год високосным"
      ],
      "metadata": {
        "id": "qHXcBMUJcP91"
      }
    },
    {
      "cell_type": "code",
      "source": [
        "year = int(input(\"Введите год:\"))\n",
        "if year%4==0:\n",
        "  print(year, '-', 'Високосный год')\n",
        "else:\n",
        "  print(year, '-', 'Невисоконый год')"
      ],
      "metadata": {
        "id": "5zIg47mwcKKr"
      },
      "execution_count": null,
      "outputs": []
    },
    {
      "cell_type": "markdown",
      "source": [
        "Задание 7: Необходимо создать простой калькулятор, который позволяет пользователю выбрать одну из четырёх операций (+, -, *, /), ввести два числа и получить результат выполнения операции."
      ],
      "metadata": {
        "id": "CYaQ69kucdhj"
      }
    },
    {
      "cell_type": "code",
      "source": [
        "def calculator():\n",
        "    print(\"Добро пожаловать в простой калькулятор!\")\n",
        "    print(\"Выберите операцию:\")\n",
        "    print(\"1: + (Сложение)\")\n",
        "    print(\"2: - (Вычитание)\")\n",
        "    print(\"3: * (Умножение)\")\n",
        "    print(\"4: / (Деление)\")\n",
        "\n",
        "    operation = input(\"Введите номер операции (1/2/3/4): \")\n",
        "    if operation not in ['1', '2', '3', '4']:\n",
        "        print(\"Ошибка: некорректный выбор операции.\")\n",
        "        return\n",
        "\n",
        "    try:\n",
        "        num1 = float(input(\"Введите первое число: \"))\n",
        "        num2 = float(input(\"Введите второе число: \"))\n",
        "    except ValueError:\n",
        "        print(\"Ошибка: ввод должен быть числом.\")\n",
        "        return\n",
        "\n",
        "    if operation == '1':\n",
        "        result = num1 + num2\n",
        "        operation_symbol = '+'\n",
        "    elif operation == '2':\n",
        "        result = num1 - num2\n",
        "        operation_symbol = '-'\n",
        "    elif operation == '3':\n",
        "        result = num1 * num2\n",
        "        operation_symbol = '*'\n",
        "    elif operation == '4':\n",
        "        if num2 == 0:\n",
        "            print(\"Ошибка: деление на ноль невозможно.\")\n",
        "            return\n",
        "        result = num1 / num2\n",
        "        operation_symbol = '/'\n",
        "\n",
        "    print(f\"Результат: {num1} {operation_symbol} {num2} = {result}\")\n",
        "\n",
        "# calculator()  # Раскомментируйте, чтобы протестировать функцию вручную.\n",
        "\n"
      ],
      "metadata": {
        "id": "wR5UyEf7ciIE",
        "colab": {
          "base_uri": "https://localhost:8080/"
        },
        "outputId": "8a057b56-8996-4480-ae0a-7359135c02fd"
      },
      "execution_count": null,
      "outputs": [
        {
          "output_type": "stream",
          "name": "stdout",
          "text": [
            "введите первое число:20\n",
            "введите операцию (+ - * /):*\n",
            "введите второе число:4\n",
            "80.0\n"
          ]
        }
      ]
    },
    {
      "cell_type": "markdown",
      "source": [
        "# Практика 0.2.1"
      ],
      "metadata": {
        "id": "XWBhGpdEFo-U"
      }
    },
    {
      "cell_type": "markdown",
      "source": [
        "**Шахматы**\n",
        "\n",
        "Даны стартовые и конечные координаты, а также фигура\n",
        "\n",
        "Необходимо определить, может ли заданная фигура так ходить?"
      ],
      "metadata": {
        "id": "9Lw9odpqFwtn"
      }
    },
    {
      "cell_type": "code",
      "source": [
        "x = int(input())\n",
        "y = int(input())\n",
        "ladya = x or y\n",
        "Kon = 3*x\n",
        "slon =\n",
        "ferz =\n",
        "korol =\n",
        "peshka ="
      ],
      "metadata": {
        "id": "9IICo0p3F07P"
      },
      "execution_count": null,
      "outputs": []
    },
    {
      "cell_type": "markdown",
      "source": [
        "\n",
        "# Практика 0.2.2\n",
        "\n",
        "**Цифра на определенном месте:**\n",
        "\n",
        "Последовательно записан натуральный ряд чисел.\n",
        "\n",
        "Какая цифра стоит в N позиции"
      ],
      "metadata": {
        "id": "wI5bLNpHGDmO"
      }
    },
    {
      "cell_type": "code",
      "source": [
        "num = input(\"Запишите ряд натуральных чисел через запятую. Пример:1,2,3,4,5,2,3\\n \").replace(' ','')\n",
        "index = int(input(\"Введите позицию:\"      ))\n",
        "\n",
        "num = num.split(\",\")\n",
        "\n",
        "lenght = len(num)\n",
        "\n",
        "if lenght == 0:\n",
        "    print(\"вы ввели пустую строку\")\n",
        "\n",
        "if index>lenght:\n",
        "    print(\"Такой позиции не существует \")\n",
        "else:\n",
        "    print(f\"В позиции номер {index} стоит {num[index-1]}\")\n"
      ],
      "metadata": {
        "id": "XLm_zFGzGNsU",
        "colab": {
          "base_uri": "https://localhost:8080/"
        },
        "outputId": "edfbcfc2-d57b-4856-d87e-797bda2efdde"
      },
      "execution_count": null,
      "outputs": [
        {
          "output_type": "stream",
          "name": "stdout",
          "text": [
            "Запишите ряд натуральных чисел через запятую. Пример:1,2,3,4,5,2,3\n",
            " 1,535,353525\n",
            "Введите позицию:3\n",
            "В позиции номер 3 стоит 353525\n"
          ]
        }
      ]
    },
    {
      "cell_type": "markdown",
      "source": [
        "# Практика 0.2.3\n",
        "\n",
        "\n",
        "Возьмите код из задания 7 и улучшите ваш калькулятор следующим образом:\n",
        "\n",
        "Пользователь вводит строку вида:\n",
        "\n",
        "(5+5)*5 - данная строка содержит в себе математическое выражение, а также скобки\n",
        "\n",
        "Ваша программа должная понять что за математическое выражение записано, проверить верно ли оно записано (пример неверного заполнения: (5(+)5)*5, а также расчитать его в соотвествии с правилами математики"
      ],
      "metadata": {
        "id": "dpxTJv-scnMy"
      }
    },
    {
      "cell_type": "code",
      "source": [
        "import re\n",
        "\n",
        "def validate_expression(expression):\n",
        "    \"\"\"\n",
        "    Проверяет, что выражение состоит только из допустимых символов\n",
        "    и имеет правильно расставленные скобки.\n",
        "    \"\"\"\n",
        "    # Регулярное выражение для допустимых символов\n",
        "    allowed_chars = re.compile(r'^[0-9+\\-*/().\\s]+$')\n",
        "    if not allowed_chars.match(expression):\n",
        "        return False\n",
        "\n",
        "    # Проверка баланса скобок\n",
        "    stack = []\n",
        "    for char in expression:\n",
        "        if char == '(':\n",
        "            stack.append(char)\n",
        "        elif char == ')':\n",
        "            if not stack:\n",
        "                return False\n",
        "            stack.pop()\n",
        "\n",
        "    return len(stack) == 0\n",
        "\n",
        "def calculate_expression(expression):\n",
        "    \"\"\"\n",
        "    Проверяет выражение и вычисляет его значение.\n",
        "    \"\"\"\n",
        "    if not validate_expression(expression):\n",
        "        print(\"Ошибка: Некорректное математическое выражение.\")\n",
        "        return\n",
        "\n",
        "    try:\n",
        "        result = eval(expression)  # Вычисляем значение выражения\n",
        "        print(f\"Результат: {expression} = {result}\")\n",
        "    except Exception as e:\n",
        "        print(f\"Ошибка при вычислении выражения: {e}\")\n",
        "\n",
        "# Пример использования\n",
        "expression = input(\"Введите математическое выражение: \")\n",
        "calculate_expression(expression)\n",
        "\n"
      ],
      "metadata": {
        "id": "18gOluyHcmmf",
        "colab": {
          "base_uri": "https://localhost:8080/"
        },
        "outputId": "eed2bcb6-4de4-4e66-b6d2-d943e059559d"
      },
      "execution_count": null,
      "outputs": [
        {
          "output_type": "stream",
          "name": "stdout",
          "text": [
            "Введите математическое выражение: (5+5)*5\n",
            "Результат: (5+5)*5 = 50\n"
          ]
        }
      ]
    },
    {
      "cell_type": "code",
      "source": [],
      "metadata": {
        "id": "nwFvycTidSG4"
      },
      "execution_count": null,
      "outputs": []
    }
  ]
}