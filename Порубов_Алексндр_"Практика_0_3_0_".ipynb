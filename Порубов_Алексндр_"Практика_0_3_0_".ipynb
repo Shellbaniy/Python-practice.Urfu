{
  "cells": [
    {
      "cell_type": "markdown",
      "metadata": {
        "id": "view-in-github",
        "colab_type": "text"
      },
      "source": [
        "<a href=\"https://colab.research.google.com/github/Shellbaniy/Python-practice.Urfu/blob/main/%D0%9F%D0%BE%D1%80%D1%83%D0%B1%D0%BE%D0%B2_%D0%90%D0%BB%D0%B5%D0%BA%D1%81%D0%BD%D0%B4%D1%80_%22%D0%9F%D1%80%D0%B0%D0%BA%D1%82%D0%B8%D0%BA%D0%B0_0_3_0_%22.ipynb\" target=\"_parent\"><img src=\"https://colab.research.google.com/assets/colab-badge.svg\" alt=\"Open In Colab\"/></a>"
      ]
    },
    {
      "cell_type": "markdown",
      "metadata": {
        "id": "k8oVfdwrMXyc"
      },
      "source": [
        "Введите ваше ФИО:"
      ]
    },
    {
      "cell_type": "code",
      "execution_count": null,
      "metadata": {
        "colab": {
          "base_uri": "https://localhost:8080/"
        },
        "id": "5mcBLsKMI1-5",
        "outputId": "fb00f549-21d6-4556-9fbc-7e1d0f3a1e24"
      },
      "outputs": [
        {
          "name": "stdout",
          "output_type": "stream",
          "text": [
            "Порубов Александр Витальевич\n"
          ]
        }
      ],
      "source": [
        "print(\"Порубов Александр Витальевич\")"
      ]
    },
    {
      "cell_type": "markdown",
      "metadata": {
        "id": "8HbYUbm3Jw3o"
      },
      "source": [
        "***Дисклеймер***\n",
        "\n",
        "В данной практике запрещено использования функций:\n",
        "\n",
        "\n",
        "*   sum()\n",
        "*   min()\n",
        "*   max()\n",
        "*   average()\n",
        "*   reversed()\n",
        "*   sorted()\n",
        "*   готовые функции или библиотеки\n"
      ]
    },
    {
      "cell_type": "markdown",
      "metadata": {
        "id": "HmX0c6YPJSQr"
      },
      "source": [
        "\n",
        "**Задача 1:**\n",
        "\n",
        "\n",
        "\n",
        "Интернет-магазин предлагает следующие условия скидок:\n",
        "\n",
        "*   Для заказов больше 1000 единиц, клиент получает скидку 5%. Если клиент использует промокод SUPERDISCOUNT, он получает скидку 10% (вместо 5%).\n",
        "*  Для заказов более 5000 единиц, клиент получает скидку 15%, а использование промокода SUPERDISCOUNT увеличивает скидку до 20% (вместо 15%).\n",
        "\n",
        "Этап 1:\n",
        "Ввод:\n",
        "```\n",
        "Введите стоимость единицы товара: 5\n",
        "Введите количество товара: 1001\n",
        "Введите промокод: GiVEMEDISCONT\n",
        "```\n",
        "\n",
        "Вывод:\n",
        "\n",
        "```\n",
        "Ваша скидка: 5%\n",
        "Итоговая сумма: 4754.75\n",
        "```\n",
        "Этап 2:\n",
        "\n",
        "Оформите ваш код в виде функции"
      ]
    },
    {
      "cell_type": "code",
      "execution_count": null,
      "metadata": {
        "colab": {
          "base_uri": "https://localhost:8080/"
        },
        "id": "OAIMIpklMN5D",
        "outputId": "b8d4cc06-0267-46bb-927b-27dfa628a8aa"
      },
      "outputs": [
        {
          "name": "stdout",
          "output_type": "stream",
          "text": [
            "Введите стоимость единицы товара: 10\n",
            "Введите количество товара: 5001\n",
            "Введите промокод:1fe\n",
            "Ваша скидка: 15%\n",
            "Итоговая сумма: 40383.075\n"
          ]
        }
      ],
      "source": [
        "def discount(cost,count,promocode):\n",
        "    res = 0\n",
        "    sum = cost*count\n",
        "    discount = 0\n",
        "    if count>1000:\n",
        "        if promocode == 'SUPERDISCOUNT':\n",
        "            sum -= sum*0.1\n",
        "            discount = 10\n",
        "        else:\n",
        "            sum -= sum*0.05\n",
        "            discount = 5\n",
        "    if count>5000:\n",
        "        if promocode == 'SUPERDISCOUNT':\n",
        "            sum -= sum*0.2\n",
        "            discount = 20\n",
        "        else:\n",
        "            sum -= sum*0.15\n",
        "            discount = 15\n",
        "    res = [sum,discount]\n",
        "    return res\n",
        "\n",
        "cost= int(input(\"Введите стоимость единицы товара: \"))\n",
        "count= int(input(\"Введите количество товара: \"))\n",
        "promocode= input(\"Введите промокод:\")\n",
        "res = discount(cost,count,promocode)\n",
        "print(f\"Ваша скидка: {res[1]}%\\nИтоговая сумма: {res[0]}\")"
      ]
    },
    {
      "cell_type": "markdown",
      "metadata": {
        "id": "eeRVWpuLNGJ0"
      },
      "source": [
        "**Задача 2:**\n",
        "\n",
        "Этап 1:\n",
        "Напишите программу способную отфильтровать список и вывести только положительные элементы\n",
        "\n",
        "\n",
        "Ввод:\n",
        "```\n",
        "-1 5 1 2 -3\n",
        "```\n",
        "\n",
        "Вывод:\n",
        "\n",
        "```\n",
        "5 1 2\n",
        "```\n",
        "\n",
        "Этап 2:\n",
        "\n",
        "Оформите ваш код в виде функции"
      ]
    },
    {
      "cell_type": "code",
      "execution_count": null,
      "metadata": {
        "colab": {
          "base_uri": "https://localhost:8080/"
        },
        "id": "Xbi6bL0WOE9N",
        "outputId": "a1b48ac4-bc9b-4149-a5fa-80e4de43cc21"
      },
      "outputs": [
        {
          "name": "stdout",
          "output_type": "stream",
          "text": [
            "введи числа: -5 -3525 14 -24 142\n",
            "14 142\n"
          ]
        }
      ],
      "source": [
        "def filtruem(num):\n",
        "    num = num.split()\n",
        "    plus = []\n",
        "    for number in num:\n",
        "        if int(number)>0:\n",
        "            plus.append(number)\n",
        "    return plus\n",
        "num = input('введи числа: ')\n",
        "plus = ' '.join(filtruem(num))\n",
        "print(plus)\n",
        "\n"
      ]
    },
    {
      "cell_type": "markdown",
      "metadata": {
        "id": "lV-w6G-POa6F"
      },
      "source": [
        "**Задача 3:**\n",
        "\n",
        "Этап 1:\n",
        "Напишите программу реализующую Алгоритм Евклида\n",
        "\n",
        "\n",
        "> Алгоритм Евклида – это алгоритм нахождения наибольшего общего делителя (НОД) пары целых чисел.\n",
        "\n",
        "\n",
        "\n",
        "Ввод:\n",
        "```\n",
        "30 18\n",
        "```\n",
        "\n",
        "Вывод:\n",
        "\n",
        "```\n",
        "6\n",
        "```\n",
        "\n",
        "Этап 2:\n",
        "Оформите ваш код в виде функции\n"
      ]
    },
    {
      "cell_type": "code",
      "execution_count": null,
      "metadata": {
        "colab": {
          "base_uri": "https://localhost:8080/"
        },
        "id": "43Dl5tIpOZsu",
        "outputId": "560b89f8-682e-45c5-ece1-b38f71b044e7"
      },
      "outputs": [
        {
          "name": "stdout",
          "output_type": "stream",
          "text": [
            "Введите первое число 10000\n",
            "Введите второе число 50000\n",
            "10000\n"
          ]
        }
      ],
      "source": [
        "def gcd(a, b):\n",
        "    if a == 0 or b == 0:\n",
        "         return a+b\n",
        "    if (a > b):\n",
        "      return gcd(a - b, b)\n",
        "    return gcd(a, b - a)\n",
        "    if(a==b):\n",
        "      return a\n",
        "a = int(input(\"Введите первое число \"))\n",
        "b= int(input(\"Введите второе число \"))\n",
        "print(gcd(a,b))"
      ]
    },
    {
      "cell_type": "markdown",
      "metadata": {
        "id": "WIfPFxpsO0zL"
      },
      "source": [
        "**Задача 4:**\n",
        "\n",
        "Этап 1:\n",
        "Напишите функцию программу, которая принимает строку и возвращает список слов и количество их упомнинаний в предложении\n",
        "\n",
        "Этап 2:\n",
        "Оформите ваш код в виде функции\n",
        "\n",
        "Ввод:\n",
        "```\n",
        "apple banana apple\n",
        "```\n",
        "\n",
        "Вывод:\n",
        "\n",
        "```\n",
        "apple: 2,\n",
        "banana: 1\n",
        "```"
      ]
    },
    {
      "cell_type": "code",
      "execution_count": null,
      "metadata": {
        "colab": {
          "base_uri": "https://localhost:8080/"
        },
        "id": "DgsmFeW5Po_x",
        "outputId": "66398dc8-b0fa-4fc1-bd6d-0dc526219e6b"
      },
      "outputs": [
        {
          "name": "stdout",
          "output_type": "stream",
          "text": [
            "Введите строкуЯ русский русский ли я\n",
            "{'я': 2, 'русский': 2, 'ли': 1}\n"
          ]
        }
      ],
      "source": [
        "def word_count(input_string):\n",
        "    words = input_string.lower().split()\n",
        "    word_counts = {}\n",
        "\n",
        "    for word in words:\n",
        "        if word in word_counts:\n",
        "            word_counts[word] += 1\n",
        "        else:\n",
        "            word_counts[word] = 1\n",
        "\n",
        "    return word_counts\n",
        "\n",
        "\n",
        "input_string=input(\"Введите строку \")\n",
        "result = word_count(input_string)\n",
        "print(result)\n"
      ]
    },
    {
      "cell_type": "markdown",
      "metadata": {
        "id": "5BmIJLUZP9I-"
      },
      "source": [
        "**Задача 5:**\n",
        "\n",
        "Этап 1:\n",
        "Детектор анаграмм Напишите программу на Python, которая принимает в качестве входных данных две строки и проверяет, являются ли они анаграммами друг друга\n",
        "\n",
        "Этап 2:\n",
        "Оформите ваш код в виде функции\n",
        "\n",
        "Ввод:\n",
        "```\n",
        "listen, silent\n",
        "```\n",
        "\n",
        "Вывод:\n",
        "\n",
        "```\n",
        "True\n",
        "```"
      ]
    },
    {
      "cell_type": "code",
      "execution_count": null,
      "metadata": {
        "colab": {
          "base_uri": "https://localhost:8080/"
        },
        "id": "7LNW8DuHQJwH",
        "outputId": "5ab6cddf-9e84-4651-af2c-af3489348b84"
      },
      "outputs": [
        {
          "name": "stdout",
          "output_type": "stream",
          "text": [
            "Введите первое слово2\n",
            "Введите второе слово2\n",
            "True\n"
          ]
        }
      ],
      "source": [
        "def are_anagrams(word1, word2):\n",
        "    word1 = word1.replace(\" \", \"\").lower()\n",
        "    word2 = word2.replace(\" \", \"\").lower()\n",
        "\n",
        "    if len(word1) != len(word2):\n",
        "        return False\n",
        "\n",
        "    char_count = {}\n",
        "\n",
        "    for char in word1:\n",
        "        if char in char_count:\n",
        "            char_count[char] += 1\n",
        "        else:\n",
        "            char_count[char] = 1\n",
        "\n",
        "    for char in word2:\n",
        "        if char in char_count:\n",
        "            char_count[char] -= 1\n",
        "        else:\n",
        "            return False\n",
        "\n",
        "    for count in char_count.values():\n",
        "        if count != 0:\n",
        "            return False\n",
        "\n",
        "    return True\n",
        "a=input(\"Введите первое слово \")\n",
        "b=input(\"Введите второе слово \")\n",
        "print(are_anagrams(a,b))"
      ]
    },
    {
      "cell_type": "markdown",
      "metadata": {
        "id": "-SIWYSq2QKBh"
      },
      "source": [
        "**Задача 6:**\n",
        "\n",
        "Шифр ​​Цезаря\n",
        "\n",
        "Напишите программу на Python, которая реализует шифр Цезаря, простой метод шифрования, который заменяет каждую букву буквой на фиксированное количество позиций вниз по алфавиту. Программа должна запрашивать у пользователя сообщение и значение сдвига, а затем шифровать и расшифровывать сообщение.\n",
        "\n",
        "Этап 1:\n",
        "\n",
        "Напишите код для реализации данной задачи\n",
        "\n",
        "Этап 2:\n",
        "\n",
        "Оформите код в виде нескольких функций:\n",
        "\n",
        "* Зашифровывает сообщение\n",
        "* Расшифровывает сообщение"
      ]
    },
    {
      "cell_type": "code",
      "execution_count": null,
      "metadata": {
        "colab": {
          "base_uri": "https://localhost:8080/"
        },
        "id": "anThYirsQe6N",
        "outputId": "8a0ef812-16cc-450a-ddb6-7a8e1ca1b14c"
      },
      "outputs": [
        {
          "name": "stdout",
          "output_type": "stream",
          "text": [
            "Зашифрованный текст: Fgysvi, Xqgydq!\n"
          ]
        }
      ],
      "source": [
        "def caesar_cipher(message, shift, mode='encrypt'):\n",
        "    result = \"\"\n",
        "\n",
        "    # Установка знака сдвига в зависимости от режима\n",
        "    if mode == 'decrypt':\n",
        "        shift = -shift\n",
        "\n",
        "    for char in message:\n",
        "        if char.isalpha():\n",
        "            start = ord('A') if char.isupper() else ord('a')\n",
        "            # Сдвиг символа и добавление в результат\n",
        "            result += chr((ord(char) - start + shift) % 26 + start)\n",
        "        else:\n",
        "            # Неизменяемые символы добавляются без изменений\n",
        "            result += char\n",
        "\n",
        "    return result\n",
        "\n",
        "def main():\n",
        "    message = input(\"Введите сообщение: \")\n",
        "    shift = int(input(\"Введите значение сдвига: \"))\n",
        "    mode = input(\"Введите 'encrypt' для шифрования или 'decrypt' для расшифрования: \").strip().lower()\n",
        "\n",
        "    # Вызов функции с соответствующим режимом\n",
        "    transformed_message = caesar_cipher(message, shift, mode)\n",
        "\n",
        "    # Вывод результата\n",
        "    if mode == 'encrypt':\n",
        "        print(\"Зашифрованное сообщение:\", transformed_message)\n",
        "    elif mode == 'decrypt':\n",
        "        print(\"Расшифрованное сообщение:\", transformed_message)\n",
        "    else:\n",
        "        print(\"Некорректный режим. Пожалуйста, введите 'encrypt' или 'decrypt'.\")\n",
        "\n",
        "if __name__ == \"__main__\":\n",
        "    main()\n"
      ]
    },
    {
      "cell_type": "markdown",
      "metadata": {
        "id": "avFZRRXrQz9O"
      },
      "source": [
        "**Задача 7**\n",
        "\n",
        "Задача: «Банковская система»\n",
        "\n",
        "Создайте программу Python, которая имитирует базовую банковскую систему. Система должна иметь следующие функции:\n",
        "\n",
        "Требования\n",
        "*   Система должна позволять клиентам создавать счета и хранить их балансы.\n",
        "*   Система должна позволять клиентам вносить и снимать деньги со своих счетов.\n",
        "*   Система должна позволять клиентам проверять свой текущий баланс.\n",
        "*   Система должна позволять клиентам переводить деньги между счетами.\n",
        "*   Система должна отслеживать транзакции (депозиты, снятия и переводы) и иметь возможность печатать детали транзакций.\n",
        "\n",
        "\n",
        "Задачи\n",
        "1. Реализуйте банковскую систему, используя только базовые конструкции Python, такие как def, lists, if, elif и else, без классов или словарей.\n",
        "Определите функции для создания счетов, внесения и снятия денег, получения балансов счетов, перевода денег между счетами, а также создания и печати транзакций.\n",
        "2. Напишите основную функцию, которая демонстрирует использование банковской системы путем создания счетов, внесения и снятия денег и перевода денег между счетами.\n",
        "3. Бонусное задание\n",
        "Реализуйте способ хранения и печати истории транзакций для каждого счета.\n",
        "\n",
        "Ограничения\n",
        "Не используйте классы или словари.\n",
        "Используйте только базовые конструкции Python, такие как def, lists, if, elif и else.\n"
      ]
    },
    {
      "cell_type": "code",
      "execution_count": 2,
      "metadata": {
        "colab": {
          "base_uri": "https://localhost:8080/"
        },
        "id": "dWEW10zIRwjs",
        "outputId": "b4b2eaa3-6c9f-4431-b7e4-5e0716a23383"
      },
      "outputs": [
        {
          "output_type": "stream",
          "name": "stdout",
          "text": [
            "\n",
            "Добро пожаловать в банковскую систему!\n",
            "1: Создать новый счет\n",
            "2: Пополнить счет\n",
            "3: Снять деньги со счета\n",
            "4: Проверить баланс\n",
            "5: Перевести деньги между счетами\n",
            "6: Показать историю транзакций\n",
            "7: Выход\n",
            "Выберите действие (1-7): 1\n",
            "Введите уникальный ID для нового счета: 213\n",
            "Счет с ID 213 успешно создан.\n",
            "\n",
            "Добро пожаловать в банковскую систему!\n",
            "1: Создать новый счет\n",
            "2: Пополнить счет\n",
            "3: Снять деньги со счета\n",
            "4: Проверить баланс\n",
            "5: Перевести деньги между счетами\n",
            "6: Показать историю транзакций\n",
            "7: Выход\n",
            "Выберите действие (1-7): 2\n",
            "Введите ID счета для пополнения: 213\n",
            "Введите сумму для пополнения: 100\n",
            "Депозит 100.0 на счет 213 успешно выполнен.\n",
            "\n",
            "Добро пожаловать в банковскую систему!\n",
            "1: Создать новый счет\n",
            "2: Пополнить счет\n",
            "3: Снять деньги со счета\n",
            "4: Проверить баланс\n",
            "5: Перевести деньги между счетами\n",
            "6: Показать историю транзакций\n",
            "7: Выход\n",
            "Выберите действие (1-7): 4\n",
            "Введите ID счета для проверки баланса: 213\n",
            "Баланс счета 213: 100.0\n",
            "\n",
            "Добро пожаловать в банковскую систему!\n",
            "1: Создать новый счет\n",
            "2: Пополнить счет\n",
            "3: Снять деньги со счета\n",
            "4: Проверить баланс\n",
            "5: Перевести деньги между счетами\n",
            "6: Показать историю транзакций\n",
            "7: Выход\n",
            "Выберите действие (1-7): 7\n",
            "Спасибо за использование банковской системы. До свидания!\n"
          ]
        }
      ],
      "source": [
        "# Глобальные списки для хранения данных\n",
        "accounts = []  # Список номеров счетов\n",
        "balances = []  # Список балансов\n",
        "transactions = []  # История транзакций\n",
        "\n",
        "# Функции системы\n",
        "\n",
        "def create_account():\n",
        "    \"\"\"\n",
        "    Создает новый счет. Пользователь вводит уникальный ID для счета.\n",
        "    \"\"\"\n",
        "    account_id = input(\"Введите уникальный ID для нового счета: \").strip()\n",
        "    if account_id in accounts:\n",
        "        print(f\"Счет с ID {account_id} уже существует.\")\n",
        "        return\n",
        "    accounts.append(account_id)\n",
        "    balances.append(0)  # Новый счет начинается с нулевого баланса\n",
        "    print(f\"Счет с ID {account_id} успешно создан.\")\n",
        "\n",
        "def deposit():\n",
        "    \"\"\"\n",
        "    Пополнение счета. Пользователь вводит ID счета и сумму.\n",
        "    \"\"\"\n",
        "    account_id = input(\"Введите ID счета для пополнения: \").strip()\n",
        "    if account_id not in accounts:\n",
        "        print(f\"Счет с ID {account_id} не найден.\")\n",
        "        return\n",
        "    try:\n",
        "        amount = float(input(\"Введите сумму для пополнения: \"))\n",
        "        if amount <= 0:\n",
        "            print(\"Сумма должна быть положительной.\")\n",
        "            return\n",
        "        index = accounts.index(account_id)\n",
        "        balances[index] += amount\n",
        "        transactions.append(f\"Депозит: Счет {account_id}, Сумма {amount}\")\n",
        "        print(f\"Депозит {amount} на счет {account_id} успешно выполнен.\")\n",
        "    except ValueError:\n",
        "        print(\"Ошибка: Введите корректное число.\")\n",
        "\n",
        "def withdraw():\n",
        "    \"\"\"\n",
        "    Снятие денег со счета. Пользователь вводит ID счета и сумму.\n",
        "    \"\"\"\n",
        "    account_id = input(\"Введите ID счета для снятия: \").strip()\n",
        "    if account_id not in accounts:\n",
        "        print(f\"Счет с ID {account_id} не найден.\")\n",
        "        return\n",
        "    try:\n",
        "        amount = float(input(\"Введите сумму для снятия: \"))\n",
        "        if amount <= 0:\n",
        "            print(\"Сумма должна быть положительной.\")\n",
        "            return\n",
        "        index = accounts.index(account_id)\n",
        "        if balances[index] < amount:\n",
        "            print(\"Недостаточно средств на счете.\")\n",
        "            return\n",
        "        balances[index] -= amount\n",
        "        transactions.append(f\"Снятие: Счет {account_id}, Сумма {amount}\")\n",
        "        print(f\"Снятие {amount} с счета {account_id} успешно выполнено.\")\n",
        "    except ValueError:\n",
        "        print(\"Ошибка: Введите корректное число.\")\n",
        "\n",
        "def check_balance():\n",
        "    \"\"\"\n",
        "    Проверяет баланс счета. Пользователь вводит ID счета.\n",
        "    \"\"\"\n",
        "    account_id = input(\"Введите ID счета для проверки баланса: \").strip()\n",
        "    if account_id not in accounts:\n",
        "        print(f\"Счет с ID {account_id} не найден.\")\n",
        "        return\n",
        "    index = accounts.index(account_id)\n",
        "    print(f\"Баланс счета {account_id}: {balances[index]}\")\n",
        "\n",
        "def transfer():\n",
        "    \"\"\"\n",
        "    Перевод денег между счетами. Пользователь вводит ID двух счетов и сумму.\n",
        "    \"\"\"\n",
        "    from_account = input(\"Введите ID счета отправителя: \").strip()\n",
        "    to_account = input(\"Введите ID счета получателя: \").strip()\n",
        "    if from_account not in accounts or to_account not in accounts:\n",
        "        print(\"Один или оба счета не найдены.\")\n",
        "        return\n",
        "    try:\n",
        "        amount = float(input(\"Введите сумму для перевода: \"))\n",
        "        if amount <= 0:\n",
        "            print(\"Сумма должна быть положительной.\")\n",
        "            return\n",
        "        from_index = accounts.index(from_account)\n",
        "        to_index = accounts.index(to_account)\n",
        "        if balances[from_index] < amount:\n",
        "            print(\"Недостаточно средств для перевода.\")\n",
        "            return\n",
        "        balances[from_index] -= amount\n",
        "        balances[to_index] += amount\n",
        "        transactions.append(f\"Перевод: Счет {from_account} -> Счет {to_account}, Сумма {amount}\")\n",
        "        print(f\"Перевод {amount} со счета {from_account} на счет {to_account} успешно выполнен.\")\n",
        "    except ValueError:\n",
        "        print(\"Ошибка: Введите корректное число.\")\n",
        "\n",
        "def print_transactions():\n",
        "    \"\"\"\n",
        "    Выводит историю транзакций.\n",
        "    \"\"\"\n",
        "    if not transactions:\n",
        "        print(\"История транзакций пуста.\")\n",
        "        return\n",
        "    print(\"История транзакций:\")\n",
        "    for transaction in transactions:\n",
        "        print(transaction)\n",
        "\n",
        "# Основная функция для взаимодействия с пользователем\n",
        "def main():\n",
        "    while True:\n",
        "        print(\"\\nДобро пожаловать в банковскую систему!\")\n",
        "        print(\"1: Создать новый счет\")\n",
        "        print(\"2: Пополнить счет\")\n",
        "        print(\"3: Снять деньги со счета\")\n",
        "        print(\"4: Проверить баланс\")\n",
        "        print(\"5: Перевести деньги между счетами\")\n",
        "        print(\"6: Показать историю транзакций\")\n",
        "        print(\"7: Выход\")\n",
        "\n",
        "        choice = input(\"Выберите действие (1-7): \").strip()\n",
        "\n",
        "        if choice == \"1\":\n",
        "            create_account()\n",
        "        elif choice == \"2\":\n",
        "            deposit()\n",
        "        elif choice == \"3\":\n",
        "            withdraw()\n",
        "        elif choice == \"4\":\n",
        "            check_balance()\n",
        "        elif choice == \"5\":\n",
        "            transfer()\n",
        "        elif choice == \"6\":\n",
        "            print_transactions()\n",
        "        elif choice == \"7\":\n",
        "            print(\"Спасибо за использование банковской системы. До свидания!\")\n",
        "            break\n",
        "        else:\n",
        "            print(\"Некорректный выбор. Попробуйте снова.\")\n",
        "\n",
        "# Запуск программы\n",
        "main()\n"
      ]
    }
  ],
  "metadata": {
    "colab": {
      "provenance": [],
      "include_colab_link": true
    },
    "kernelspec": {
      "display_name": "Python 3",
      "name": "python3"
    },
    "language_info": {
      "name": "python"
    }
  },
  "nbformat": 4,
  "nbformat_minor": 0
}