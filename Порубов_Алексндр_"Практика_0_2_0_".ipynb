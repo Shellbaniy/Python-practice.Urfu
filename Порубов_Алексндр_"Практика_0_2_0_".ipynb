{
  "nbformat": 4,
  "nbformat_minor": 0,
  "metadata": {
    "colab": {
      "provenance": [],
      "include_colab_link": true
    },
    "kernelspec": {
      "name": "python3",
      "display_name": "Python 3"
    },
    "language_info": {
      "name": "python"
    }
  },
  "cells": [
    {
      "cell_type": "markdown",
      "metadata": {
        "id": "view-in-github",
        "colab_type": "text"
      },
      "source": [
        "<a href=\"https://colab.research.google.com/github/Shellbaniy/Python-practice.Urfu/blob/main/%D0%9F%D0%BE%D1%80%D1%83%D0%B1%D0%BE%D0%B2_%D0%90%D0%BB%D0%B5%D0%BA%D1%81%D0%BD%D0%B4%D1%80_%22%D0%9F%D1%80%D0%B0%D0%BA%D1%82%D0%B8%D0%BA%D0%B0_0_2_0_%22.ipynb\" target=\"_parent\"><img src=\"https://colab.research.google.com/assets/colab-badge.svg\" alt=\"Open In Colab\"/></a>"
      ]
    },
    {
      "cell_type": "markdown",
      "source": [
        "ФИО"
      ],
      "metadata": {
        "id": "phMKaFq3DN13"
      }
    },
    {
      "cell_type": "code",
      "execution_count": null,
      "metadata": {
        "id": "3CWpaI7SDK8t",
        "colab": {
          "base_uri": "https://localhost:8080/"
        },
        "outputId": "87804b7e-fdd5-4f38-d96f-ffa8a4e69dae"
      },
      "outputs": [
        {
          "output_type": "stream",
          "name": "stdout",
          "text": [
            "Порубов Александр Витальевич\n"
          ]
        }
      ],
      "source": [
        "print(\"Порубов Александр Витальевич\")"
      ]
    },
    {
      "cell_type": "markdown",
      "source": [
        "**Во всей практике нельзя применять библиотеки предоставляющие готовые решения!**"
      ],
      "metadata": {
        "id": "jyIy3GOgFOCe"
      }
    },
    {
      "cell_type": "markdown",
      "source": [
        "# **Задача 1.**\n"
      ],
      "metadata": {
        "id": "XizmlL1RK2t3"
      }
    },
    {
      "cell_type": "markdown",
      "source": [
        "\n",
        "\n",
        "Типы данных Напишите программу на Python, которая принимает список чисел в качестве входных данных от пользователя, а затем выводит сумму, среднее значение и максимальное значение из списка.\n",
        "\n",
        "***Нельзя использовать: len(), min(), max(), average(), sum()***\n",
        "\n",
        "Дано:\n",
        "```\n",
        "1 2 3 4 5 6 7\n",
        "```\n",
        "Вывод:\n",
        "\n",
        "```\n",
        "Сумма чисел: 28\n",
        "Среднее арифм.: 4.0\n",
        "Максимальное значение: 7\n",
        "```\n",
        "\n"
      ],
      "metadata": {
        "id": "p0v6KtHTFKSd"
      }
    },
    {
      "cell_type": "code",
      "source": [
        "#1\n",
        "numbers = list(map(int, input(\"\").split()))\n",
        "\n",
        "def calc_sum(numbers):\n",
        "    k = 0\n",
        "    for num in numbers:\n",
        "        k += num\n",
        "    return k\n",
        "\n",
        "def calc_avg(numbers):\n",
        "    k = calc_sum(numbers)\n",
        "    c = 0\n",
        "    for _ in numbers:\n",
        "        c += 1\n",
        "    return k/c\n",
        "\n",
        "def fd_max(numbers):\n",
        "    fe_v = numbers[0]\n",
        "    for num in numbers:\n",
        "        if num>fe_v:\n",
        "            fe_v = num\n",
        "    return fe_v\n",
        "\n",
        "sums = calc_sum(numbers)\n",
        "avg = calc_avg(numbers)\n",
        "fe_v = fd_max(numbers)\n",
        "print(f\"Сумма:{sums}\")\n",
        "print(f\"Среднее значение:{avg}\")\n",
        "print(f\"Макс значение:{fe_v}\")\n"
      ],
      "metadata": {
        "id": "0e1Virl0FpF6",
        "colab": {
          "base_uri": "https://localhost:8080/"
        },
        "outputId": "89b6c876-868e-49f4-e6cf-83330640e6e2"
      },
      "execution_count": null,
      "outputs": [
        {
          "output_type": "stream",
          "name": "stdout",
          "text": [
            "Введите свои числа через пробел: 1 2 3 4 5 6 7\n",
            "Cумма чисел: 28.0\n",
            "Среднее арифметическое: 4.0\n",
            "Максимальное значение: 7.0\n"
          ]
        }
      ]
    },
    {
      "cell_type": "markdown",
      "source": [
        "# **Задача 2.**"
      ],
      "metadata": {
        "id": "uFluc5OSK0NH"
      }
    },
    {
      "cell_type": "markdown",
      "source": [
        "\n",
        "Напишите программу на Python, которая принимает список слов в качестве входных данных от пользователя, а затем распечатывает список в обратном порядке.\n",
        "\n",
        "Ввод:\n",
        "\n",
        "```\n",
        "апельсин мандарин яблоко\n",
        "```\n",
        "\n",
        "Вывод:\n",
        "\n",
        "```\n",
        "яблоко мандарин апельсин\n",
        "```"
      ],
      "metadata": {
        "id": "6T8vg324GG4Z"
      }
    },
    {
      "cell_type": "code",
      "source": [
        "a = input().split()\n",
        "print(\" \".join(a[::-1]))"
      ],
      "metadata": {
        "id": "v3AWj4ufGKox"
      },
      "execution_count": null,
      "outputs": []
    },
    {
      "cell_type": "markdown",
      "source": [
        "\n",
        "Напишите программу на Python, которая принимает список слов в качестве входных данных от пользователя, а затем распечатывает список в обратном порядке.\n",
        "\n",
        "Ввод:\n",
        "\n",
        "```\n",
        "апельсин мандарин яблоко\n",
        "```\n",
        "\n",
        "Вывод:\n",
        "\n",
        "```\n",
        "яблоко мандарин апельсин\n",
        "```"
      ],
      "metadata": {
        "id": "zO27q58a1hDr"
      }
    },
    {
      "cell_type": "markdown",
      "source": [
        "# **Задача 3**"
      ],
      "metadata": {
        "id": "D1KkCxtIKxRx"
      }
    },
    {
      "cell_type": "markdown",
      "source": [
        "Простой чат-бот\n",
        "Создайте простого чат-бота, который отвечает на основные запросы пользователей. Программа должна использовать условные выражения для определения намерений пользователя и последующего соответствующего ответа.\n",
        "\n",
        "Чат бот может:\n",
        "\n",
        "- помогать складывать числа\n",
        "- подсказывать фильм, музыку и тд (из заранее созданного списка)\n",
        "- создавать список дел (а также выводить его, обновлять, очищать)\n",
        "\n",
        "Интерфейс чат-бота на ваше усмотрение, это могут быть как заранее определенные команды, так и к примеру вызов команды по номеру\n",
        "\n",
        "*Реализовать без использования функций*\n",
        "\n",
        "Пример:\n",
        "\n",
        "Ввод:\n",
        "\n",
        "```\n",
        "Олег, какую мызыку посоветуешь?\n",
        "```\n",
        "\n",
        "Вывод:\n",
        "\n",
        "```\n",
        "Я бы посоветовал вам: Led Zeppelin Stairway to Heaven\n",
        "```"
      ],
      "metadata": {
        "id": "Yq8Jgb9yHvSi"
      }
    },
    {
      "cell_type": "code",
      "source": [
        "print(\"Привет! Я ваш чат-бот. Чем могу помочь?\")\n",
        "print(\"Доступные команды:\")\n",
        "print(\"1: Помочь сложить числа\")\n",
        "print(\"2: Посоветовать фильм или музыку\")\n",
        "print(\"3: Управление списком дел (добавить, показать, очистить)\")\n",
        "print(\"Введите 'выход', чтобы завершить работу.\")\n",
        "\n",
        "todo_list = []  # Список дел\n",
        "\n",
        "while True:\n",
        "    user_input = input(\"\\nВаш запрос: \").lower()\n",
        "\n",
        "    if user_input == \"выход\":\n",
        "        print(\"До свидания! Хорошего дня!\")\n",
        "        break\n",
        "\n",
        "    elif \"сложить\" in user_input or user_input == \"1\":\n",
        "        try:\n",
        "            print(\"Введите два числа для сложения.\")\n",
        "            num1 = float(input(\"Первое число: \"))\n",
        "            num2 = float(input(\"Второе число: \"))\n",
        "            print(f\"Результат: {num1} + {num2} = {num1 + num2}\")\n",
        "        except ValueError:\n",
        "            print(\"Ошибка: Вводите только числа.\")\n",
        "\n",
        "    elif \"фильм\" in user_input or \"музыка\" in user_input or user_input == \"2\":\n",
        "        recommendations = {\n",
        "            \"фильм\": \"Inception (Начало)\",\n",
        "            \"музыка\": \"Led Zeppelin - Stairway to Heaven\",\n",
        "            \"сериал\": \"Breaking Bad (Во все тяжкие)\"\n",
        "        }\n",
        "        print(\"Что вас интересует? Фильм, музыка или сериал?\")\n",
        "        choice = input(\"Введите ваш выбор: \").lower()\n",
        "        if choice in recommendations:\n",
        "            print(f\"Я бы посоветовал вам: {recommendations[choice]}\")\n",
        "        else:\n",
        "            print(\"Извините, такого выбора у меня нет.\")\n",
        "\n",
        "    elif \"список дел\" in user_input or user_input == \"3\":\n",
        "        print(\"Что вы хотите сделать со списком дел?\")\n",
        "        print(\"1: Добавить дело\")\n",
        "        print(\"2: Показать список\")\n",
        "        print(\"3: Очистить список\")\n",
        "        sub_choice = input(\"Введите номер действия: \").strip()\n",
        "\n",
        "        if sub_choice == \"1\":\n",
        "            task = input(\"Введите дело, которое нужно добавить: \")\n",
        "            todo_list.append(task)\n",
        "            print(f\"Дело '{task}' добавлено в список.\")\n",
        "\n",
        "        elif sub_choice == \"2\":\n",
        "            if todo_list:\n",
        "                print(\"Ваш список дел:\")\n",
        "                for i, task in enumerate(todo_list, start=1):\n",
        "                    print(f\"{i}. {task}\")\n",
        "            else:\n",
        "                print(\"Ваш список дел пуст.\")\n",
        "\n",
        "        elif sub_choice == \"3\":\n",
        "            todo_list.clear()\n",
        "            print(\"Список дел очищен.\")\n",
        "        else:\n",
        "            print(\"Некорректный выбор действия.\")\n",
        "\n",
        "    else:\n",
        "        print(\"Извините, я не понимаю ваш запрос. Попробуйте снова.\")\n"
      ],
      "metadata": {
        "id": "MRDdl7O0AQAq",
        "colab": {
          "base_uri": "https://localhost:8080/"
        },
        "outputId": "582be2cf-cad2-49a0-b88d-0adb2babc6bb"
      },
      "execution_count": 1,
      "outputs": [
        {
          "output_type": "stream",
          "name": "stdout",
          "text": [
            "Привет! Я ваш чат-бот. Чем могу помочь?\n",
            "Доступные команды:\n",
            "1: Помочь сложить числа\n",
            "2: Посоветовать фильм или музыку\n",
            "3: Управление списком дел (добавить, показать, очистить)\n",
            "Введите 'выход', чтобы завершить работу.\n",
            "\n",
            "Ваш запрос: 2\n",
            "Что вас интересует? Фильм, музыка или сериал?\n",
            "Введите ваш выбор: Музыка\n",
            "Я бы посоветовал вам: Led Zeppelin - Stairway to Heaven\n",
            "\n",
            "Ваш запрос: выход\n",
            "До свидания! Хорошего дня!\n"
          ]
        }
      ]
    },
    {
      "cell_type": "markdown",
      "source": [
        "Камень, ножницы, бумага\n",
        "\n",
        "Создайте игру в Камень, ножницы, бумагу, в которой пользователь может играть против компьютера. Программа должна запросить выбор пользователя, а затем сгенерировать выбор компьютера. Затем программа должна определить победителя на основе правил игры.\n",
        "\n",
        "**Этап 1:**\n",
        "\n",
        "Определение победителя\n",
        "\n",
        "**Этап 2:**\n",
        "  \n",
        "Игра до 3 побед\n",
        "\n",
        "\n",
        "Ввод для \"Этап 1\":\n",
        "\n",
        "```\n",
        "Камень\n",
        "```\n",
        "\n",
        "Вывод:\n",
        "\n",
        "```\n",
        "Компьютер: Ножницы\n",
        "Игрок: Камень\n",
        "Победа: Игрок\n",
        "```"
      ],
      "metadata": {
        "id": "jnKWeYleI0j6"
      }
    },
    {
      "cell_type": "markdown",
      "source": [
        "# **Задача 4.**\n"
      ],
      "metadata": {
        "id": "PHXBfyc6Ko7D"
      }
    },
    {
      "cell_type": "code",
      "source": [
        "import random\n",
        "\n",
        "def play_game():\n",
        "    choices = ['Камень', 'Ножницы', 'Бумага']\n",
        "    score = {'Игрок': 0, 'Компьютер': 0}\n",
        "\n",
        "    while max(score.values()) < 3:\n",
        "        user = input(\"Выберите: Камень, Ножницы, Бумага: \").capitalize()\n",
        "        if user not in choices:\n",
        "            print(\"Неверный ввод.\")\n",
        "            continue\n",
        "\n",
        "        computer = random.choice(choices)\n",
        "        winner = 'Игрок' if (user == computer) else 'Игрок' if (user == 'Камень' and computer == 'Ножницы') or (user == 'Ножницы' and computer == 'Бумага') or (user == 'Бумага' and computer == 'Камень') else 'Компьютер'\n",
        "\n",
        "        score[winner] += (winner != 'Ничья') # Увеличиваем счёт только для победителя\n",
        "        print(f\"Игрок: {user}, Компьютер: {computer} — Победа: {winner if user != computer else 'Ничья'}\")\n",
        "        print(f\"Счёт: {score}\\n\")\n",
        "\n",
        "    print(f\"Победил {max(score, key=score.get)}!\")\n",
        "\n",
        "play_game()\n"
      ],
      "metadata": {
        "id": "ooIPCRe_JHkX",
        "colab": {
          "base_uri": "https://localhost:8080/"
        },
        "outputId": "973f854b-7b41-4b84-eb3b-cc80717a9461"
      },
      "execution_count": null,
      "outputs": [
        {
          "output_type": "stream",
          "name": "stdout",
          "text": [
            "Выберите: Камень, Ножницы, Бумага: Камень\n",
            "Игрок: Камень, Компьютер: Ножницы — Победа: Игрок\n",
            "Счёт: {'Игрок': 1, 'Компьютер': 0}\n",
            "\n",
            "Выберите: Камень, Ножницы, Бумага: Ножницы\n",
            "Игрок: Ножницы, Компьютер: Камень — Победа: Компьютер\n",
            "Счёт: {'Игрок': 1, 'Компьютер': 1}\n",
            "\n",
            "Выберите: Камень, Ножницы, Бумага: Камень\n",
            "Игрок: Камень, Компьютер: Камень — Победа: Ничья\n",
            "Счёт: {'Игрок': 2, 'Компьютер': 1}\n",
            "\n",
            "Выберите: Камень, Ножницы, Бумага: Бумага\n",
            "Игрок: Бумага, Компьютер: Бумага — Победа: Ничья\n",
            "Счёт: {'Игрок': 3, 'Компьютер': 1}\n",
            "\n",
            "Победил Игрок!\n"
          ]
        }
      ]
    },
    {
      "cell_type": "markdown",
      "source": [
        "# **Задача 5.**"
      ],
      "metadata": {
        "id": "Hg4FJNFbLHQO"
      }
    },
    {
      "cell_type": "markdown",
      "source": [
        "Создайте игру \"Палач\" или \"Виселица\", в которой пользователь должен угадать слово, предлагая буквы. Программа должна выбрать случайное слово, а затем разрешить пользователю угадывать буквы. После каждого угадывания программа должна сообщать пользователю, есть ли в слове буква или нет.\n",
        "\n",
        "**Этап 1**\n",
        "Создать саму игру\n",
        "\n",
        "**Этап 2:**\n",
        "Ввести подсчет количества очков и ограничения на попытки\n",
        "\n",
        "**Этап 3:** Добавить возможность сразу угадать слово"
      ],
      "metadata": {
        "id": "OHqj3HJuLJgY"
      }
    },
    {
      "cell_type": "code",
      "source": [
        "impюort random\n",
        "\n",
        "\n",
        "words = ['БАНАН', 'ЯБЛОКО', 'МАНДАРИН', 'ГРУША', 'КИВИ']\n",
        "\n",
        "def choose_word():\n",
        "    return random.choice(words)\n",
        "\n",
        "def display_word(wohttps://colab.research.google.com/drive/15hG0WO9eTz_O0vK0W7w4VsjQrjcD3uWJ#scrollTo=PHXBfyc6Ko7Drd, guessed_letters):\n",
        "    return ' '.join([letter if letter in guessed_letters else '_' for letter in word])\n",
        "\n",
        "def main():\n",
        "    print(\"Добро пожаловать в игру 'Виселица'!\")\n",
        "    word = choose_word()\n",
        "    guessed_letters = []\n",
        "    attempts = 6\n",
        "    score = 0\n",
        "\n",
        "    while attempts > 0:\n",
        "        print(\"\\nУгадываемое слово: \", display_word(word, guessed_letters))\n",
        "        print(f\"У вас осталось попыток: {attempts}\")\n",
        "        guess = input(\"Введите букву или попробуйте угадать слово: \").upper()\n",
        "\n",
        "        if len(guess) == 1:\n",
        "            if guess in guessed_letters:\n",
        "                print(\"Вы уже угадали эту букву.\")\n",
        "            elif guess in word:\n",
        "                guessed_letters.append(guess)\n",
        "                score += 1\n",
        "                print(f\"Поздравляем! Буква '{guess}' есть в слове.\")\n",
        "            else:\n",
        "                attempts -= 1\n",
        "                print(f\"К сожалению, буквы '{guess}' нет в слове.\")\n",
        "        elif len(guess) == len(word):\n",
        "            if guess == word:\n",
        "                print(\"Поздравляем! Вы угадали слово!\")\n",
        "                score += 5\n",
        "                break\n",
        "            else:\n",
        "                attempts -= 1\n",
        "                print(\"Неправильное слово!\")\n",
        "        else:\n",
        "            print(\"Введите одну букву или попробуйте угадать слово целиком.\")\n",
        "\n",
        "\n",
        "        if all(letter in guessed_letters for letter in word):\n",
        "            print(f\"Вы угадали слово: {word}! Поздравляем!\")\n",
        "            score += 3\n",
        "            break\n",
        "\n",
        "    if attempts == 0:\n",
        "        print(f\"Вы проиграли. Загаданное слово: {word}\")\n",
        "\n",
        "    print(f\"Ваши очки: {score}\")\n",
        "\n",
        "if __name__ == '__main__':\n",
        "    main()"
      ],
      "metadata": {
        "id": "0N2zCYwVLiIw",
        "colab": {
          "base_uri": "https://localhost:8080/"
        },
        "outputId": "363d05c4-a353-4a0c-c5da-5d40213db330"
      },
      "execution_count": null,
      "outputs": [
        {
          "output_type": "stream",
          "name": "stdout",
          "text": [
            "Добро пожаловать в игру 'Виселица'!\n",
            "\n",
            "Угадываемое слово:  _ _ _ _ _ _ _ _\n",
            "У вас осталось попыток: 6\n",
            "Введите букву или попробуйте угадать слово: м\n",
            "Поздравляем! Буква 'М' есть в слове.\n",
            "\n",
            "Угадываемое слово:  М _ _ _ _ _ _ _\n",
            "У вас осталось попыток: 6\n",
            "Введите букву или попробуйте угадать слово: МАНДАРИН\n",
            "Поздравляем! Вы угадали слово!\n",
            "Ваши очки: 6\n"
          ]
        }
      ]
    },
    {
      "cell_type": "markdown",
      "source": [
        "# **Дополнительно: Задача 6.**\n"
      ],
      "metadata": {
        "id": "w0x3QFGzKtDD"
      }
    },
    {
      "cell_type": "markdown",
      "source": [
        "\n",
        "**Цифра на определенном месте:**\n",
        "\n",
        "Последовательно записан натуральный ряд чисел.\n",
        "\n",
        "Какая цифра стоит в N позиции\n",
        "\n",
        "\n",
        "Вввод:\n",
        "\n",
        "```\n",
        "Введите номер позиции: 1234567890\n",
        "```\n",
        "\n",
        "Вывод:\n",
        "\n",
        "```\n",
        "8\n",
        "```"
      ],
      "metadata": {
        "id": "QqZArcpHJxVj"
      }
    },
    {
      "cell_type": "code",
      "source": [
        "def find_digit_at_position(n):\n",
        "    digit_length = 1  # Длина цифр (1 для 1-9, 2 для 10-99 и т.д.)\n",
        "    count = 9         # Количество чисел с данной длиной\n",
        "    start = 1         # Начальное число\n",
        "\n",
        "    # Находим диапазон, в котором находится позиция\n",
        "    while n > digit_length * count:\n",
        "        n -= digit_length * count\n",
        "        digit_length += 1\n",
        "        count *= 10\n",
        "        start *= 10\n",
        "\n",
        "    # Найдем конкретное число, содержащие нужную цифру number = start + (n - 1) // digit_length\n",
        "    digit_index = (n - 1) % digit_length  # Индекс цифры в числе\n",
        "\n",
        "    # Возвращаем нужную цифру\n",
        "    return str(number)[digit_index]\n",
        "\n",
        "# Запрашиваем у пользователя номер позиции\n",
        "position = int(input(\"Введите номер позиции: \"))\n",
        "digit = find_digit_at_position(position)\n",
        "\n",
        "print(\"Цифра на позиции\", position, \":\", digit)"
      ],
      "metadata": {
        "id": "LwjYwBGcKiJ9"
      },
      "execution_count": null,
      "outputs": []
    }
  ]
}