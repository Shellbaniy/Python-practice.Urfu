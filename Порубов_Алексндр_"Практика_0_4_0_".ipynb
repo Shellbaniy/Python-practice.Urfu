{
  "nbformat": 4,
  "nbformat_minor": 0,
  "metadata": {
    "colab": {
      "provenance": [],
      "include_colab_link": true
    },
    "kernelspec": {
      "name": "python3",
      "display_name": "Python 3"
    },
    "language_info": {
      "name": "python"
    }
  },
  "cells": [
    {
      "cell_type": "markdown",
      "metadata": {
        "id": "view-in-github",
        "colab_type": "text"
      },
      "source": [
        "<a href=\"https://colab.research.google.com/github/Shellbaniy/Python-practice.Urfu/blob/main/%D0%9F%D0%BE%D1%80%D1%83%D0%B1%D0%BE%D0%B2_%D0%90%D0%BB%D0%B5%D0%BA%D1%81%D0%BD%D0%B4%D1%80_%22%D0%9F%D1%80%D0%B0%D0%BA%D1%82%D0%B8%D0%BA%D0%B0_0_4_0_%22.ipynb\" target=\"_parent\"><img src=\"https://colab.research.google.com/assets/colab-badge.svg\" alt=\"Open In Colab\"/></a>"
      ]
    },
    {
      "cell_type": "markdown",
      "source": [
        "ФИО:"
      ],
      "metadata": {
        "id": "Bu5gIJfHNPHw"
      }
    },
    {
      "cell_type": "code",
      "execution_count": null,
      "metadata": {
        "id": "CbHI8c7cM9Eg"
      },
      "outputs": [],
      "source": [
        "Порубов Александр Виатльевич"
      ]
    },
    {
      "cell_type": "markdown",
      "source": [
        "# **Задание 1**"
      ],
      "metadata": {
        "id": "VrNrBpmocGRd"
      }
    },
    {
      "cell_type": "markdown",
      "source": [
        "\n",
        "\n",
        "Дан словарь, содержащий имена и возраст людей, напишите программу выводящую возраст человека по имени\n",
        "\n",
        "Дано:\n",
        "\n",
        "```\n",
        "{\"Alice\": 25, \"Bob\": 30, \"Charlie\": 35}\n",
        "```\n",
        "\n",
        "Вввод:\n",
        "\n",
        "\n",
        "```\n",
        "Alice\n",
        "```\n",
        "\n",
        "Вывод:\n",
        "\n",
        "\n",
        "```\n",
        "Alice 25\n",
        "```\n"
      ],
      "metadata": {
        "id": "XhV1bnm1bR2h"
      }
    },
    {
      "cell_type": "code",
      "source": [
        "dict = {\"Alice\": 24, \"Bob\": 30, \"Karl\": 27}\n",
        "lol = dict.get(input())\n",
        "print(lol)"
      ],
      "metadata": {
        "id": "PElJj6DvsgjD",
        "colab": {
          "base_uri": "https://localhost:8080/"
        },
        "outputId": "a36cabe9-caf6-495f-d99a-95febbff403c"
      },
      "execution_count": null,
      "outputs": [
        {
          "output_type": "stream",
          "name": "stdout",
          "text": [
            "Bob\n",
            "30\n"
          ]
        }
      ]
    },
    {
      "cell_type": "markdown",
      "source": [
        "# **Задание 2**\n"
      ],
      "metadata": {
        "id": "lpjJz-_YcJ-t"
      }
    },
    {
      "cell_type": "markdown",
      "source": [
        "\n",
        "\n",
        "Дан список, состоящий из целых чисел, необходимо написать функцию считающую сумму всех положительных четных чисел списка\n",
        "\n",
        "Ввод:\n",
        "\n",
        "```\n",
        "1, 2, 3, 4, 5, 6, 7, 8, 9\n",
        "```\n",
        "\n",
        "Вывод:\n",
        "\n",
        "\n",
        "```\n",
        "20\n",
        "```\n",
        "\n",
        "***Запрещено:***\n",
        "\n",
        "*   Использование готовых функций для суммирования чисел\n"
      ],
      "metadata": {
        "id": "tMEsAB4rUiWW"
      }
    },
    {
      "cell_type": "code",
      "source": [
        "def sum_plusovix_numbers(input_string):\n",
        "\n",
        "    numbers = [int(num) for num in input_string.split(',')]\n",
        "    total = 0\n",
        "\n",
        "    for number in numbers:\n",
        "        if number > 0 and number % 2 == 0:\n",
        "            total += number\n",
        "\n",
        "    return total\n",
        "\n",
        "input_string = input(\"Введите целые числа: \")\n",
        "result = sum_plusovix_numbers(input_string)\n",
        "print(f\"Сумма положительных четных чисел: {result}\")"
      ],
      "metadata": {
        "id": "wDNUFLeqNQS_",
        "colab": {
          "base_uri": "https://localhost:8080/"
        },
        "outputId": "05dac36c-79ff-42a9-f2b0-b5f3db02810c"
      },
      "execution_count": null,
      "outputs": [
        {
          "output_type": "stream",
          "name": "stdout",
          "text": [
            "Введите целые числа: 2,434,12,4,6\n",
            "Сумма положительных четных чисел: 458\n"
          ]
        }
      ]
    },
    {
      "cell_type": "markdown",
      "source": [
        "# **Задание 3**"
      ],
      "metadata": {
        "id": "WT_v-vz1dUZJ"
      }
    },
    {
      "cell_type": "markdown",
      "source": [
        "Дан словарь, содержащий название фрукта и его цвет, выведите список всех желтых фруктов\n",
        "\n",
        "\n",
        "Дано:\n",
        "\n",
        "```\n",
        "fruits_and_colors = {\n",
        "    \"apple\": \"red\",\n",
        "    \"banana\": \"yellow\",\n",
        "    \"mango\": \"yellow\",\n",
        "    \"orange\": \"orange\",\n",
        "    \"lemon\": \"yellow\",\n",
        "    \"grape\": \"purple\"\n",
        "}\n",
        "```\n",
        "\n",
        "Вывод:\n",
        "\n",
        "\n",
        "```\n",
        "Yellow fruits:\n",
        "banana\n",
        "lemon\n",
        "mango\n",
        "```\n",
        "\n"
      ],
      "metadata": {
        "id": "ZI5Xeh2DdXgF"
      }
    },
    {
      "cell_type": "code",
      "source": [
        "fruits_and_colors = {\n",
        "    \"apple\": \"red\",\n",
        "    \"banana\": \"yellow\",\n",
        "    \"mango\": \"yellow\",\n",
        "    \"orange\": \"orange\",\n",
        "    \"lemon\": \"yellow\",\n",
        "    \"grape\": \"purple\"\n",
        "}\n",
        "\n",
        "# Create новый dictionary для еллоу фруктов\n",
        "yellow_fruits = {fruit: color for fruit, color in fruits_and_colors.items() if color == \"yellow\"}\n",
        "\n",
        "print(\"Yellow fruits:\")\n",
        "for fruit in yellow_fruits.keys():\n",
        "    print(fruit)"
      ],
      "metadata": {
        "id": "aNzFTkhKdkTG",
        "colab": {
          "base_uri": "https://localhost:8080/"
        },
        "outputId": "62cb5f3a-3a5f-4bb7-f87b-a4b130b83579"
      },
      "execution_count": null,
      "outputs": [
        {
          "output_type": "stream",
          "name": "stdout",
          "text": [
            "Yellow fruits:\n",
            "banana\n",
            "mango\n",
            "lemon\n"
          ]
        }
      ]
    },
    {
      "cell_type": "markdown",
      "source": [
        "# **Задание 4**\n"
      ],
      "metadata": {
        "id": "iHtMGt2icM7w"
      }
    },
    {
      "cell_type": "markdown",
      "source": [
        "\n",
        "\n",
        "Дан словарь, необходимо написать функцию меняющую ключ и значение местами\n",
        "\n",
        "Дано:\n",
        "\n",
        "\n",
        "```\n",
        "{\"a\": 1, \"b\": 2, \"c\": 3}\n",
        "```\n",
        "\n",
        "Вывод:\n",
        "\n",
        "```\n",
        "{1: 'a', 2: 'b', 3: 'c'}\n",
        "```\n",
        "\n"
      ],
      "metadata": {
        "id": "rS3THsnBQ_EB"
      }
    },
    {
      "cell_type": "code",
      "source": [
        "score = {'a': 1, 'b': 2, 'c': 3}\n",
        "swapped_score = {value: key for key, value in score.items()}\n",
        "print(swapped_score)"
      ],
      "metadata": {
        "id": "MNRusyLDcQ59",
        "colab": {
          "base_uri": "https://localhost:8080/"
        },
        "outputId": "47e6eee6-d445-4a46-e548-51d146019f59"
      },
      "execution_count": null,
      "outputs": [
        {
          "output_type": "stream",
          "name": "stdout",
          "text": [
            "{1: 'a', 2: 'b', 3: 'c'}\n"
          ]
        }
      ]
    },
    {
      "cell_type": "markdown",
      "source": [
        "# **Задание 5**"
      ],
      "metadata": {
        "id": "x6ff5nd0cUxD"
      }
    },
    {
      "cell_type": "markdown",
      "source": [
        "Дан список слов, неограниченной длинны, сформируйте словарь, где в качестве ключа будет слово, а в качестве значения количество слов\n",
        "\n",
        "**Критерии**\n",
        "\n",
        "\n",
        "*   Словарь необходимо отсортировать по убыванию количества элементов в списке.\n",
        "*   Подсчет элементов должен быть реализован в отдельной функции\n",
        "*   Сортировка пары `ключ:значение` должна быть реализована также в виде отдельной функции\n",
        "\n",
        "\n",
        "\n",
        "\n",
        "Дано:\n",
        "```\n",
        "['apple','banana','orange','apple','apple','banana']\n",
        "```\n",
        "\n",
        "\n",
        "Вывод:\n",
        "```\n",
        "{'apple':3, 'banana': 2, 'orange': 1}\n",
        "```\n",
        "\n",
        "***Запрещено:***\n",
        "\n",
        "*   Использование готовых функций для сортировки\n",
        "*   Использование готовых функций для подсчета элементов\n",
        "\n"
      ],
      "metadata": {
        "id": "ypQNHOG4NQz3"
      }
    },
    {
      "cell_type": "code",
      "source": [
        "def count_words(word_list):\n",
        "    word_count = {}  #пустой словарь\n",
        "\n",
        "    #Проход по каждому слову в списке\n",
        "    for word in word_list:\n",
        "        if word in word_count:\n",
        "            word_count[word] += 1\n",
        "        else:\n",
        "            word_count[word] = 1  #Инициализируем счетчик для нового слова\n",
        "\n",
        "    return word_count\n",
        "\n",
        "#сортировка словаря по убыванию значений\n",
        "def sort_by_value(word_count_dict):\n",
        "    items = list(word_count_dict.items())\n",
        "\n",
        "    for i in range(len(items)):\n",
        "        for j in range(0, len(items) - i - 1):\n",
        "            if items[j][1] < items[j + 1][1]:\n",
        "                items[j], items[j + 1] = items[j + 1], items[j]\n",
        "\n",
        "    sorted_dict = {key: value for key, value in items}\n",
        "\n",
        "    return sorted_dict\n",
        "\n",
        "word_list = ['apple', 'banana', 'orange', 'apple', 'apple', 'banana']\n",
        "word_count = count_words(word_list)\n",
        "sorted_word_count = sort_by_value(word_count)\n",
        "print(sorted_word_count)"
      ],
      "metadata": {
        "id": "J10PjdVQUbyq",
        "colab": {
          "base_uri": "https://localhost:8080/"
        },
        "outputId": "408d99ca-20d4-4e45-a735-7f4e126f451e"
      },
      "execution_count": null,
      "outputs": [
        {
          "output_type": "stream",
          "name": "stdout",
          "text": [
            "{'apple': 3, 'banana': 2, 'orange': 1}\n"
          ]
        }
      ]
    },
    {
      "cell_type": "markdown",
      "source": [
        "# **Задание 6**"
      ],
      "metadata": {
        "id": "d7fDUr2WcY_G"
      }
    },
    {
      "cell_type": "markdown",
      "source": [
        "Дан словарь, содержащий информацию о людях, необходимо:\n",
        "\n",
        "\n",
        "\n",
        "*   Вывести всех людей старше 30 лет\n",
        "*   Вывести список городов и количество людей из словаря проживающих в них\n",
        "*   Вывести список профессий и список людей для каждой профессии\n",
        "\n",
        "**Критерии**\n",
        "\n",
        "Каждый из пунктов необходимо реализовать в виде функции\n",
        "\n"
      ],
      "metadata": {
        "id": "m11qdVhSWBi7"
      }
    },
    {
      "cell_type": "code",
      "source": [
        "people_info = {\n",
        "    \"Alice\": {\"age\": 25, \"city\": \"New York\", \"occupation\": \"Engineer\"},\n",
        "    \"Bob\": {\"age\": 30, \"city\": \"Los Angeles\", \"occupation\": \"Designer\"},\n",
        "    \"Charlie\": {\"age\": 35, \"city\": \"Chicago\", \"occupation\": \"Teacher\"},\n",
        "    \"Diana\": {\"age\": 28, \"city\": \"Miami\", \"occupation\": \"Doctor\"},\n",
        "    \"Ethan\": {\"age\": 40, \"city\": \"Seattle\", \"occupation\": \"Chef\"},\n",
        "    \"Frank\": {\"age\": 32, \"city\": \"Atlanta\", \"occupation\": \"Lawyer\"},\n",
        "    \"Gabriella\": {\"age\": 29, \"city\": \"San Francisco\", \"occupation\": \"Software Engineer\"},\n",
        "    \"Harrison\": {\"age\": 38, \"city\": \"Denver\", \"occupation\": \"Architect\"},\n",
        "    \"Isabella\": {\"age\": 26, \"city\": \"Washington D.C.\", \"occupation\": \"Journalist\"},\n",
        "    \"Julian\": {\"age\": 42, \"city\": \"Miami\", \"occupation\": \"Musician\"},\n",
        "    \"Kate\": {\"age\": 31, \"city\": \"Philadelphia\", \"occupation\": \"Nurse\"},\n",
        "    \"Lucas\": {\"age\": 36, \"city\": \"Nashville\", \"occupation\": \"Businessman\"},\n",
        "    \"Mia\": {\"age\": 27, \"city\": \"Atlanta\", \"occupation\": \"Artist\"},\n",
        "    \"Natalie\": {\"age\": 39, \"city\": \"Portland\", \"occupation\": \"Writer\"},\n",
        "    \"Oliver\": {\"age\": 44, \"city\": \"Minneapolis\", \"occupation\": \"Professor\"},\n",
        "    \"Penelope\": {\"age\": 33, \"city\": \"San Diego\", \"occupation\": \"Marketing Manager\"},\n",
        "    \"Quincy\": {\"age\": 41, \"city\": \"Nashville\", \"occupation\": \"Singer\"},\n",
        "    \"Rachel\": {\"age\": 34, \"city\": \"Cleveland\", \"occupation\": \"Teacher\"},\n",
        "    \"Sophia\": {\"age\": 29, \"city\": \"Nashville\", \"occupation\": \"Engineer\"},\n",
        "    \"Tessa\": {\"age\": 37, \"city\": \"Miami\", \"occupation\": \"Lawyer\"}\n",
        "}\n",
        "def people_older_than_30(people_info):\n",
        "    older_people = {name: info for name, info in people_info.items() if info['age'] > 30}\n",
        "    return older_people\n",
        "\n",
        "def city_population(people_info):\n",
        "    city_count = {}\n",
        "\n",
        "    for info in people_info.values():\n",
        "        city = info['city']\n",
        "        if city in city_count:\n",
        "            city_count[city] += 1\n",
        "        else:\n",
        "            city_count[city] = 1\n",
        "\n",
        "    return city_count\n",
        "\n",
        "def people_by_occupation(people_info):\n",
        "    occupation_dict = {}\n",
        "\n",
        "    for name, info in people_info.items():\n",
        "        occupation = info['occupation']\n",
        "        if occupation in occupation_dict:\n",
        "            occupation_dict[occupation].append(name)\n",
        "        else:\n",
        "            occupation_dict[occupation] = [name]\n",
        "\n",
        "    return occupation_dict\n",
        "\n",
        "older_people = people_older_than_30(people_info) # age\n",
        "print(\"Люди старше 30 лет:\", older_people)\n",
        "\n",
        "city_population_info = city_population(people_info) # count city and people\n",
        "print(\"Города и количество людей:\", city_population_info)\n",
        "\n",
        "occupation_info = people_by_occupation(people_info) # prof and people\n",
        "print(\"Профессии и люди:\", occupation_info)\n",
        "\n"
      ],
      "metadata": {
        "id": "lSNtB39OWtFl",
        "colab": {
          "base_uri": "https://localhost:8080/"
        },
        "outputId": "cb2acd1b-3704-4039-f858-fa11024320b3"
      },
      "execution_count": null,
      "outputs": [
        {
          "output_type": "stream",
          "name": "stdout",
          "text": [
            "Люди старше 30 лет: {'Charlie': {'age': 35, 'city': 'Chicago', 'occupation': 'Teacher'}, 'Ethan': {'age': 40, 'city': 'Seattle', 'occupation': 'Chef'}, 'Frank': {'age': 32, 'city': 'Atlanta', 'occupation': 'Lawyer'}, 'Harrison': {'age': 38, 'city': 'Denver', 'occupation': 'Architect'}, 'Julian': {'age': 42, 'city': 'Miami', 'occupation': 'Musician'}, 'Kate': {'age': 31, 'city': 'Philadelphia', 'occupation': 'Nurse'}, 'Lucas': {'age': 36, 'city': 'Nashville', 'occupation': 'Businessman'}, 'Natalie': {'age': 39, 'city': 'Portland', 'occupation': 'Writer'}, 'Oliver': {'age': 44, 'city': 'Minneapolis', 'occupation': 'Professor'}, 'Penelope': {'age': 33, 'city': 'San Diego', 'occupation': 'Marketing Manager'}, 'Quincy': {'age': 41, 'city': 'Nashville', 'occupation': 'Singer'}, 'Rachel': {'age': 34, 'city': 'Cleveland', 'occupation': 'Teacher'}, 'Tessa': {'age': 37, 'city': 'Miami', 'occupation': 'Lawyer'}}\n",
            "Города и количество людей: {'New York': 1, 'Los Angeles': 1, 'Chicago': 1, 'Miami': 3, 'Seattle': 1, 'Atlanta': 2, 'San Francisco': 1, 'Denver': 1, 'Washington D.C.': 1, 'Philadelphia': 1, 'Nashville': 3, 'Portland': 1, 'Minneapolis': 1, 'San Diego': 1, 'Cleveland': 1}\n",
            "Профессии и люди: {'Engineer': ['Alice', 'Sophia'], 'Designer': ['Bob'], 'Teacher': ['Charlie', 'Rachel'], 'Doctor': ['Diana'], 'Chef': ['Ethan'], 'Lawyer': ['Frank', 'Tessa'], 'Software Engineer': ['Gabriella'], 'Architect': ['Harrison'], 'Journalist': ['Isabella'], 'Musician': ['Julian'], 'Nurse': ['Kate'], 'Businessman': ['Lucas'], 'Artist': ['Mia'], 'Writer': ['Natalie'], 'Professor': ['Oliver'], 'Marketing Manager': ['Penelope'], 'Singer': ['Quincy']}\n"
          ]
        }
      ]
    },
    {
      "cell_type": "code",
      "source": [
        "Alex"
      ],
      "metadata": {
        "id": "e-I4RAxfKt6l",
        "colab": {
          "base_uri": "https://localhost:8080/",
          "height": 161
        },
        "outputId": "2feb852e-d70f-433e-a3bb-565377d9feda"
      },
      "execution_count": null,
      "outputs": [
        {
          "output_type": "error",
          "ename": "NameError",
          "evalue": "name 'Alice' is not defined",
          "traceback": [
            "\u001b[0;31m---------------------------------------------------------------------------\u001b[0m",
            "\u001b[0;31mNameError\u001b[0m                                 Traceback (most recent call last)",
            "\u001b[0;32m<ipython-input-71-915d944fa078>\u001b[0m in \u001b[0;36m<cell line: 1>\u001b[0;34m()\u001b[0m\n\u001b[0;32m----> 1\u001b[0;31m \u001b[0mAlice\u001b[0m\u001b[0;34m\u001b[0m\u001b[0;34m\u001b[0m\u001b[0m\n\u001b[0m",
            "\u001b[0;31mNameError\u001b[0m: name 'Alice' is not defined"
          ]
        }
      ]
    },
    {
      "cell_type": "markdown",
      "source": [
        "# **Задание 7**"
      ],
      "metadata": {
        "id": "27IuB2YScezw"
      }
    },
    {
      "cell_type": "markdown",
      "source": [
        "Задание: Разработка системы отзывов о предметах\n",
        "\n",
        "Описание: Создать программу на Python для хранения и управления отзывами о предметах учебного курса. Программа должна позволять пользователям добавлять, просматривать и удалять отзывы, а также вычислять средний балл по заданному предмету.\n",
        "\n",
        "**Функционал:**\n",
        "\n",
        "*   Добавление отзыва и оценки:\n",
        "   *   Пользователь может ввести название предмета, оценку (от 1 до 5) и текст отзыва.\n",
        "   *   Отзывы должны храниться в структуре данных (например, словаре), где ключом будет название предмета, а значением - список отзывов (каждый отзыв может хранить оценку и комментарий).\n",
        "*   Просмотр отзывов и оценок:\n",
        "   *   Пользователь может запросить отзывы для указанного предмета.\n",
        "   *   Если для указанного предмета есть отзывы, программа должна отобразить список всех отзывов и соответствующих оценок.\n",
        "*   Удаление отзыва:\n",
        "   *   Пользователь может удалить отзыв по индексу. Необходимо заранее уведомить пользователя о том, какие отзывы доступны для удаления.\n",
        "   *   Программа должна обработать ситуацию, когда индекс введен неправильно.\n",
        "*   Вычисление среднего балла по предмету:\n",
        "   *   Пользователь может ввести название предмета, и программа должна вычислить и вывести средний балл по всем отзывам для этого предмета.\n",
        "   *   Если отзывов нет, программа должна сообщить об этом.\n",
        "\n",
        "\n",
        "**Критерии:**\n",
        "\n",
        "*   Код должен быть оформлен в виде функций\n",
        "*   Необходимо обрабатывать неправильный ввод пользователя\n",
        "*   Должны быть комментарии к функциям\n",
        "*   Присутсвует весь дополнительный функционал\n",
        "\n",
        "\n",
        "\n",
        "**Опционально:**\n",
        "\n",
        "Предлагаю вам добавить свои критерии оценки или вопросы, на которые должен ответить студент, чтобы оценить пару\n",
        "\n",
        "\n"
      ],
      "metadata": {
        "id": "Fd95-S9cYhct"
      }
    },
    {
      "cell_type": "code",
      "source": [],
      "metadata": {
        "id": "kzucJrCUa0o7"
      },
      "execution_count": null,
      "outputs": []
    }
  ]
}